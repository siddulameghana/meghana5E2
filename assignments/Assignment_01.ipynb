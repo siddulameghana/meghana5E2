{
  "cells": [
    {
      "cell_type": "markdown",
      "metadata": {
        "id": "view-in-github",
        "colab_type": "text"
      },
      "source": [
        "<a href=\"https://colab.research.google.com/github/siddulameghana/meghana5E2/blob/main/assignments/Assignment_01.ipynb\" target=\"_parent\"><img src=\"https://colab.research.google.com/assets/colab-badge.svg\" alt=\"Open In Colab\"/></a>"
      ]
    },
    {
      "cell_type": "markdown",
      "id": "548b84c2-e24f-4a12-98bb-5e7bd5ec86bd",
      "metadata": {
        "id": "548b84c2-e24f-4a12-98bb-5e7bd5ec86bd"
      },
      "source": [
        "# Python"
      ]
    },
    {
      "cell_type": "markdown",
      "id": "99fbfc45-ba9e-4766-8219-f5dbcacc8481",
      "metadata": {
        "id": "99fbfc45-ba9e-4766-8219-f5dbcacc8481"
      },
      "source": [
        "<a target=\"_blank\" href=\"https://colab.research.google.com/github/kgsb24/rishi-college/blob/main/assignments/Assignment_01.ipynb\">\n",
        "  <img src=\"https://colab.research.google.com/assets/colab-badge.svg\" alt=\"Open In Colab\"/>\n",
        "</a>"
      ]
    },
    {
      "cell_type": "markdown",
      "id": "07a1f870-f905-4703-8b65-12e83172133a",
      "metadata": {
        "id": "07a1f870-f905-4703-8b65-12e83172133a"
      },
      "source": [
        "## Basic Python Fundamentals"
      ]
    },
    {
      "cell_type": "code",
      "execution_count": null,
      "id": "502e1d87-2fdd-4588-a330-2af21268215e",
      "metadata": {
        "id": "502e1d87-2fdd-4588-a330-2af21268215e",
        "outputId": "ca50d13d-73f8-4a71-ba92-95c6e0991eb8",
        "colab": {
          "base_uri": "https://localhost:8080/"
        }
      },
      "outputs": [
        {
          "output_type": "execute_result",
          "data": {
            "text/plain": [
              "int"
            ]
          },
          "metadata": {},
          "execution_count": 2
        }
      ],
      "source": [
        "# Write a Python program to declare a variable x with the value 10 and print its type.\n",
        "x=10\n",
        "type(x)"
      ]
    },
    {
      "cell_type": "code",
      "execution_count": null,
      "id": "dae77579-4b7d-4f06-96e0-7bdfe43860d7",
      "metadata": {
        "id": "dae77579-4b7d-4f06-96e0-7bdfe43860d7",
        "outputId": "692445af-c022-477d-bbd1-8f06cfa803f8",
        "colab": {
          "base_uri": "https://localhost:8080/"
        }
      },
      "outputs": [
        {
          "output_type": "stream",
          "name": "stdout",
          "text": [
            "30\n"
          ]
        }
      ],
      "source": [
        "# Write a Python program to declare three variables a = 5, b = 10, and c = 15, and print their sum.\n",
        "a=5\n",
        "b=10\n",
        "c=15\n",
        "sum=(a+b+c)\n",
        "print(sum)"
      ]
    },
    {
      "cell_type": "code",
      "execution_count": null,
      "id": "c32867b2-a615-426a-89ae-bd2793b6a4dc",
      "metadata": {
        "id": "c32867b2-a615-426a-89ae-bd2793b6a4dc",
        "outputId": "73eebec2-ca18-4155-e333-0e79ce9f62da",
        "colab": {
          "base_uri": "https://localhost:8080/"
        }
      },
      "outputs": [
        {
          "output_type": "execute_result",
          "data": {
            "text/plain": [
              "str"
            ]
          },
          "metadata": {},
          "execution_count": 5
        }
      ],
      "source": [
        "# Write a Python program that checks and prints the type of a variable (e.g., int, float, str, etc.).\n",
        "name= \"Meghana\"\n",
        "type(name)"
      ]
    },
    {
      "cell_type": "code",
      "source": [
        "a=1236546\n",
        "type(a)"
      ],
      "metadata": {
        "id": "VfQUx516LIZP",
        "outputId": "df768f9e-def0-43f8-a0af-abc28ea6945b",
        "colab": {
          "base_uri": "https://localhost:8080/"
        }
      },
      "id": "VfQUx516LIZP",
      "execution_count": null,
      "outputs": [
        {
          "output_type": "execute_result",
          "data": {
            "text/plain": [
              "int"
            ]
          },
          "metadata": {},
          "execution_count": 7
        }
      ]
    },
    {
      "cell_type": "code",
      "source": [
        "a=156.6\n",
        "type(a)"
      ],
      "metadata": {
        "id": "yWRN6gxyLdF4",
        "outputId": "7292763c-b422-405d-d5ce-12adb401d42c",
        "colab": {
          "base_uri": "https://localhost:8080/"
        }
      },
      "id": "yWRN6gxyLdF4",
      "execution_count": null,
      "outputs": [
        {
          "output_type": "execute_result",
          "data": {
            "text/plain": [
              "float"
            ]
          },
          "metadata": {},
          "execution_count": 8
        }
      ]
    },
    {
      "cell_type": "code",
      "execution_count": null,
      "id": "8b233e41-9d44-4869-9ead-afb3ff1c0b67",
      "metadata": {
        "id": "8b233e41-9d44-4869-9ead-afb3ff1c0b67",
        "outputId": "ecc89d5f-e9c0-42ac-c4ef-d00499b16096",
        "colab": {
          "base_uri": "https://localhost:8080/"
        }
      },
      "outputs": [
        {
          "output_type": "stream",
          "name": "stdout",
          "text": [
            "addition: 14\n",
            "subtraction: -4\n",
            "multiplication: 5\n",
            "division: 0.5555555555555556\n"
          ]
        }
      ],
      "source": [
        "# Write a Python program to perform addition, subtraction, multiplication, and division on two numbers. (User input is required for the numbers)\n",
        "a=5\n",
        "b=9\n",
        "print(\"addition:\",a+b)\n",
        "print(\"subtraction:\",a-b)\n",
        "print(\"multiplication:\",a%b)\n",
        "print(\"division:\",a/b)"
      ]
    },
    {
      "cell_type": "code",
      "execution_count": null,
      "id": "629435bd-6bfa-44de-91d9-3b2937713257",
      "metadata": {
        "id": "629435bd-6bfa-44de-91d9-3b2937713257",
        "outputId": "200cf68f-b827-4e6b-ba66-56ea25c4d2d3",
        "colab": {
          "base_uri": "https://localhost:8080/"
        }
      },
      "outputs": [
        {
          "output_type": "stream",
          "name": "stdout",
          "text": [
            "123\n",
            "123.0\n"
          ]
        }
      ],
      "source": [
        "# Write a Python program to convert a string \"123\" to an integer and a float and print the results.\n",
        "a=\"123\"\n",
        "print(int(a))\n",
        "print(float(a))"
      ]
    },
    {
      "cell_type": "code",
      "execution_count": null,
      "id": "599421f1-51c1-4653-9d78-b007fcc6861b",
      "metadata": {
        "id": "599421f1-51c1-4653-9d78-b007fcc6861b",
        "outputId": "abe06cb0-61ab-47c2-9dec-eab44ac493fb",
        "colab": {
          "base_uri": "https://localhost:8080/"
        }
      },
      "outputs": [
        {
          "output_type": "stream",
          "name": "stdout",
          "text": [
            "M\n"
          ]
        }
      ],
      "source": [
        "# Write a Python program to print the first character of a given string. (User input for the string)\n",
        "name=\"Meghana\"\n",
        "print(name[0])"
      ]
    },
    {
      "cell_type": "code",
      "execution_count": null,
      "id": "54ee0a5d-415f-40b6-b82e-c0de12a002f9",
      "metadata": {
        "id": "54ee0a5d-415f-40b6-b82e-c0de12a002f9",
        "outputId": "26b84cc0-47bc-4d97-a13a-de79e3a920d1",
        "colab": {
          "base_uri": "https://localhost:8080/"
        }
      },
      "outputs": [
        {
          "output_type": "stream",
          "name": "stdout",
          "text": [
            "7\n"
          ]
        }
      ],
      "source": [
        "# Write a Python program to print the length of a string. (User input for the string)\n",
        "name=\"Meghana\"\n",
        "print(len(name))"
      ]
    },
    {
      "cell_type": "code",
      "execution_count": null,
      "id": "65f44c33-618e-4337-a9d1-9de888c93a0a",
      "metadata": {
        "id": "65f44c33-618e-4337-a9d1-9de888c93a0a",
        "outputId": "5a796226-6546-472b-ece4-3060c8364c63",
        "colab": {
          "base_uri": "https://localhost:8080/"
        }
      },
      "outputs": [
        {
          "output_type": "stream",
          "name": "stdout",
          "text": [
            "True\n"
          ]
        }
      ],
      "source": [
        "# Write a Python program to check if a given string contains only alphabets.\n",
        "str=\"Meghana\"\n",
        "x=str.isalpha()\n",
        "print(x)"
      ]
    },
    {
      "cell_type": "code",
      "execution_count": null,
      "id": "37463128-2b51-4860-b6bf-40d3c03fbe84",
      "metadata": {
        "id": "37463128-2b51-4860-b6bf-40d3c03fbe84",
        "outputId": "2e4d9f36-7e15-4577-96c4-449e141d5668",
        "colab": {
          "base_uri": "https://localhost:8080/"
        }
      },
      "outputs": [
        {
          "output_type": "stream",
          "name": "stdout",
          "text": [
            "Enter a string:Meghana\n",
            "Enter a string:Maggi\n",
            "MeghanaMaggi\n"
          ]
        }
      ],
      "source": [
        "# Write a Python program to concatenate two strings. (User input for the strings)\n",
        "str1=input(\"Enter a string:\")\n",
        "str2=input(\"Enter a string:\")\n",
        "result=str1+str2\n",
        "print(result)"
      ]
    },
    {
      "cell_type": "code",
      "execution_count": null,
      "id": "b1c5d364-eccf-473a-b03a-ab15f3e917cf",
      "metadata": {
        "id": "b1c5d364-eccf-473a-b03a-ab15f3e917cf",
        "outputId": "bf16be2e-f776-4e4d-9833-97822bf2e617",
        "colab": {
          "base_uri": "https://localhost:8080/"
        }
      },
      "outputs": [
        {
          "output_type": "stream",
          "name": "stdout",
          "text": [
            "Enter a string: abcghi123\n",
            "The substring 'abc' is found at index 0.\n"
          ]
        }
      ],
      "source": [
        "# Write a Python program to find the index of a substring \"abc\" in a string. (User input for the string)\n",
        "# Get user input for the string\n",
        "user_string = input(\"Enter a string: \")\n",
        "\n",
        "# Find the index of the substring \"abc\"\n",
        "index = user_string.find(\"abc\")\n",
        "\n",
        "# Check if the substring is found\n",
        "if index != -1:\n",
        "    print(f\"The substring 'abc' is found at index {index}.\")\n",
        "else:\n",
        "    print(\"The substring 'abc' is not found in the string.\")"
      ]
    },
    {
      "cell_type": "code",
      "execution_count": null,
      "id": "cc92afd9-ba4b-4934-a79d-f26825b4efc2",
      "metadata": {
        "id": "cc92afd9-ba4b-4934-a79d-f26825b4efc2",
        "outputId": "525ea078-8923-40de-dcce-49ab77001bfb",
        "colab": {
          "base_uri": "https://localhost:8080/"
        }
      },
      "outputs": [
        {
          "output_type": "stream",
          "name": "stdout",
          "text": [
            "Enter a String:Meghana\n",
            "MEGHANA\n",
            "meghana\n"
          ]
        }
      ],
      "source": [
        "# Write a Python program to convert a string to both uppercase and lowercase. (User input for the string)\n",
        "str=input(\"Enter a String:\")\n",
        "print(str.upper())\n",
        "print(str.lower())"
      ]
    },
    {
      "cell_type": "code",
      "execution_count": null,
      "id": "f24f79b3-da8b-44bf-8310-c68442e86e3e",
      "metadata": {
        "id": "f24f79b3-da8b-44bf-8310-c68442e86e3e",
        "outputId": "12189c9e-0115-4891-db5d-b82edbb78005",
        "colab": {
          "base_uri": "https://localhost:8080/"
        }
      },
      "outputs": [
        {
          "output_type": "stream",
          "name": "stdout",
          "text": [
            "Enter a string: siddulameghana\n",
            "Enter a character to count: a\n",
            "The character 'a' appears 3 times in the string.\n"
          ]
        }
      ],
      "source": [
        "# Write a Python program to count how many times a particular character appears in a string. (User input for string and character)\n",
        "# Get user input for the string and the character\n",
        "user_string = input(\"Enter a string: \")\n",
        "character = input(\"Enter a character to count: \")\n",
        "\n",
        "# Validate if a single character is entered\n",
        "if len(character) != 1:\n",
        "    print(\"Please enter only one character.\")\n",
        "else:\n",
        "    # Count occurrences of the character\n",
        "    count = user_string.count(character)\n",
        "    print(f\"The character '{character}' appears {count} times in the string.\")"
      ]
    },
    {
      "cell_type": "code",
      "execution_count": null,
      "id": "f2e8f25c-5c34-44eb-b749-7cc4c100b9a8",
      "metadata": {
        "id": "f2e8f25c-5c34-44eb-b749-7cc4c100b9a8",
        "outputId": "c4173bf8-b5a8-4efd-96e4-cd9975e236e1",
        "colab": {
          "base_uri": "https://localhost:8080/"
        }
      },
      "outputs": [
        {
          "output_type": "stream",
          "name": "stdout",
          "text": [
            "Enter your Name:Meghana\n",
            "Hello Meghana Good Morning\n"
          ]
        }
      ],
      "source": [
        "# Write a Python program to take the user's name as input and print a personalized greeting. (Hello, username, Good Morning)\n",
        "x=input(\"Enter your Name:\")\n",
        "print(\"Hello\", x , \"Good Morning\")"
      ]
    },
    {
      "cell_type": "code",
      "execution_count": null,
      "id": "189296cf-77e6-4f48-b010-77458da5bc9d",
      "metadata": {
        "id": "189296cf-77e6-4f48-b010-77458da5bc9d",
        "outputId": "2f06f56b-5d8f-4908-8947-6be94bb293c8",
        "colab": {
          "base_uri": "https://localhost:8080/"
        }
      },
      "outputs": [
        {
          "output_type": "stream",
          "name": "stdout",
          "text": [
            "Enter your first number:2\n",
            "Enter your second number:6\n",
            "8\n"
          ]
        }
      ],
      "source": [
        "# Write a Python program to take two numbers as input and print their sum.\n",
        "first_num=int(input(\"Enter your first number:\"))\n",
        "second_num=int(input(\"Enter your second number:\"))\n",
        "result=first_num+second_num\n",
        "print(result)"
      ]
    },
    {
      "cell_type": "code",
      "execution_count": 1,
      "id": "0563b26c-0218-47b8-9035-98beb73b0931",
      "metadata": {
        "id": "0563b26c-0218-47b8-9035-98beb73b0931",
        "outputId": "ae244836-e424-47db-bbc6-7d3c0d0b663c",
        "colab": {
          "base_uri": "https://localhost:8080/"
        }
      },
      "outputs": [
        {
          "name": "stdout",
          "output_type": "stream",
          "text": [
            "Enter your name:meghana\n",
            "Enter your age:21\n"
          ]
        }
      ],
      "source": [
        "# Write a Python program to format and display a string containing the user's name and age. (User input required)\n",
        "name=input(\"Enter your name:\")\n",
        "age=int(input(\"Enter your age:\"))"
      ]
    },
    {
      "cell_type": "markdown",
      "id": "0bde6e5a-0415-4b06-8b5a-95fa252b34eb",
      "metadata": {
        "id": "0bde6e5a-0415-4b06-8b5a-95fa252b34eb"
      },
      "source": [
        "## Control Structures (Conditionals and Loops)"
      ]
    },
    {
      "cell_type": "code",
      "execution_count": null,
      "id": "aefff5f3-b61e-43e6-a458-7367ef1af9de",
      "metadata": {
        "id": "aefff5f3-b61e-43e6-a458-7367ef1af9de",
        "outputId": "c1ae249a-70fc-429f-f0e7-133a8f4e0795",
        "colab": {
          "base_uri": "https://localhost:8080/"
        }
      },
      "outputs": [
        {
          "output_type": "stream",
          "name": "stdout",
          "text": [
            "Enter a number:45648\n",
            "45648 is a positive number\n"
          ]
        }
      ],
      "source": [
        "# Write a Python program that takes a number as input and checks whether it is positive, negative, or zero.\n",
        "num=int(input(\"Enter a number:\"))\n",
        "if(num==0):\n",
        "  print(\"it is Zero\")\n",
        "elif(num>0):\n",
        "  print(num,\"is a positive number\")\n",
        "elif(num<0):\n",
        "  print(num,\"is a negative number\")\n",
        "else:\n",
        "  print(\"invalid input\")"
      ]
    },
    {
      "cell_type": "code",
      "execution_count": null,
      "id": "4dc6d14b-6d22-4348-859a-2a03f9be65f7",
      "metadata": {
        "id": "4dc6d14b-6d22-4348-859a-2a03f9be65f7",
        "outputId": "a501c9f5-bb56-422e-a405-bba92c2d6612",
        "colab": {
          "base_uri": "https://localhost:8080/"
        }
      },
      "outputs": [
        {
          "output_type": "stream",
          "name": "stdout",
          "text": [
            "Enter first number:12\n",
            "Enter second number:13\n",
            "Enter third number:12\n",
            "13 is maximum number\n"
          ]
        }
      ],
      "source": [
        "# Write a Python program to find the maximum of three numbers. (User input for the numbers)\n",
        "num1=int(input(\"Enter first number:\"))\n",
        "num2=int(input(\"Enter second number:\"))\n",
        "num3=int(input(\"Enter third number:\"))\n",
        "if(num1>num2 and num1>num3):\n",
        "  print(num1, \"is maximum number\")\n",
        "elif(num2>num1 and num2>num3):\n",
        "  print(num2, \"is maximum number\")\n",
        "elif(num3>num1 and num3>num2):\n",
        "  print(num3, \"is maximum number\")\n",
        "else:\n",
        "  print(\"invalid input\")"
      ]
    },
    {
      "cell_type": "code",
      "execution_count": null,
      "id": "3f6d1f45-eb68-4142-89d6-510046f21879",
      "metadata": {
        "id": "3f6d1f45-eb68-4142-89d6-510046f21879",
        "outputId": "e33475b3-b827-43bf-ad48-2ded4c813455",
        "colab": {
          "base_uri": "https://localhost:8080/"
        }
      },
      "outputs": [
        {
          "output_type": "stream",
          "name": "stdout",
          "text": [
            "Enter a year:2004\n",
            "{year} is a leap year.\n"
          ]
        }
      ],
      "source": [
        "# Write a Python program to check if a year is a leap year. (User input for the year)\n",
        "year = int(input(\"Enter a year:\"))\n",
        "import calendar\n",
        "if calendar.isleap(year):\n",
        "  print(\"{year} is a leap year.\")\n",
        "else :\n",
        "  print(\" {year} is not a leap year.\")"
      ]
    },
    {
      "cell_type": "code",
      "execution_count": null,
      "id": "b6a07105-6fa5-4f70-b64b-ebd66afc3c2b",
      "metadata": {
        "id": "b6a07105-6fa5-4f70-b64b-ebd66afc3c2b",
        "outputId": "a795a890-d41d-4440-d169-c6c8934468e8",
        "colab": {
          "base_uri": "https://localhost:8080/"
        }
      },
      "outputs": [
        {
          "output_type": "stream",
          "name": "stdout",
          "text": [
            "Enter a number:30\n",
            "30 is divisible by both 3 and 5\n"
          ]
        }
      ],
      "source": [
        "# Write a Python program to check if a number is divisible by both 3 and 5. (User input for the number)\n",
        "num=int(input(\"Enter a number:\"))\n",
        "if(num%3==0 and num%5==0):\n",
        "  print(num, \"is divisible by both 3 and 5\")\n",
        "else:\n",
        "  print(num, \"is not divisible by both 3 and 5\")"
      ]
    },
    {
      "cell_type": "code",
      "execution_count": null,
      "id": "d10c9005-b85d-42f9-81d0-65d149415888",
      "metadata": {
        "id": "d10c9005-b85d-42f9-81d0-65d149415888",
        "outputId": "a92b7141-076f-4392-f810-6a7412fc6095",
        "colab": {
          "base_uri": "https://localhost:8080/"
        }
      },
      "outputs": [
        {
          "output_type": "stream",
          "name": "stdout",
          "text": [
            "Enter a string:dad\n",
            "dad is a palindrome\n"
          ]
        }
      ],
      "source": [
        "# Write a Python program to check if a string is a palindrome. (User input for the string)\n",
        "def is_palindrome(s):\n",
        "    s=s.replace(\" \",\"\").lower()\n",
        "    return s==s[::-1]\n",
        "s=input(\"Enter a string:\")\n",
        "if is_palindrome(s):\n",
        "  print(s,\"is a palindrome\")\n",
        "else:\n",
        "  print(s,\"is not a palindrome\")\n"
      ]
    },
    {
      "cell_type": "code",
      "execution_count": null,
      "id": "82d76cdf-efc6-45c6-ab09-9d1f17b3d857",
      "metadata": {
        "id": "82d76cdf-efc6-45c6-ab09-9d1f17b3d857",
        "outputId": "b685ad83-a988-4555-8157-71443a86813a",
        "colab": {
          "base_uri": "https://localhost:8080/"
        }
      },
      "outputs": [
        {
          "output_type": "stream",
          "name": "stdout",
          "text": [
            "1\n",
            "2\n",
            "3\n",
            "4\n",
            "5\n",
            "6\n",
            "7\n",
            "8\n",
            "9\n",
            "10\n"
          ]
        }
      ],
      "source": [
        "# Write a Python program to print numbers from 1 to 10 using a for loop.\n",
        "for i in range(1,11):\n",
        "  print(i)\n"
      ]
    },
    {
      "cell_type": "code",
      "execution_count": null,
      "id": "d09e8994-e984-4c12-ab1e-1bfc6938a389",
      "metadata": {
        "id": "d09e8994-e984-4c12-ab1e-1bfc6938a389",
        "outputId": "704afba4-7c07-4e12-9a63-765d02c62385",
        "colab": {
          "base_uri": "https://localhost:8080/"
        }
      },
      "outputs": [
        {
          "output_type": "stream",
          "name": "stdout",
          "text": [
            "2\n",
            "4\n",
            "6\n",
            "8\n",
            "10\n",
            "12\n",
            "14\n",
            "16\n",
            "18\n",
            "20\n"
          ]
        }
      ],
      "source": [
        "# Write a Python program to print all even numbers from 1 to 20 using a while loop.\n",
        "# Initialize the starting number\n",
        "number = 1\n",
        "\n",
        "# Use a while loop to iterate through numbers from 1 to 20\n",
        "while number <= 20:\n",
        "    # Check if the number is even\n",
        "    if number % 2 == 0:\n",
        "        print(number)\n",
        "    # Increment the number\n",
        "    number += 1"
      ]
    },
    {
      "cell_type": "code",
      "execution_count": null,
      "id": "c09ca878-167e-49ca-97f0-247a43c9b472",
      "metadata": {
        "id": "c09ca878-167e-49ca-97f0-247a43c9b472",
        "outputId": "37653aad-e7df-4bb0-aaf6-12346c1b319f",
        "colab": {
          "base_uri": "https://localhost:8080/"
        }
      },
      "outputs": [
        {
          "output_type": "stream",
          "name": "stdout",
          "text": [
            "Enter a number:7\n",
            "7\n",
            "14\n",
            "21\n",
            "28\n",
            "35\n",
            "42\n",
            "49\n",
            "56\n",
            "63\n",
            "70\n"
          ]
        }
      ],
      "source": [
        "# Write a Python program to print the multiplication table of a given number using a for loop. (User input for the number)\n",
        "n=int(input(\"Enter a number:\"))\n",
        "for i in range(1,11):\n",
        "  print(i*n)"
      ]
    },
    {
      "cell_type": "code",
      "execution_count": null,
      "id": "b72118ab-e62d-4af9-bcec-e1cc6af31b25",
      "metadata": {
        "id": "b72118ab-e62d-4af9-bcec-e1cc6af31b25",
        "outputId": "8256b7cc-a856-40cb-902d-a6e9b81df3b2",
        "colab": {
          "base_uri": "https://localhost:8080/"
        }
      },
      "outputs": [
        {
          "output_type": "stream",
          "name": "stdout",
          "text": [
            "Enter a number n: 9\n",
            "The sum of all numbers from 1 to 9 is: 45\n"
          ]
        }
      ],
      "source": [
        "# Write a Python program to calculate the sum of all numbers from 1 to n using a while loop. (User input for n)\n",
        "# Get user input for the value of n\n",
        "n = int(input(\"Enter a number n: \"))\n",
        "\n",
        "# Initialize sum variable\n",
        "sum_numbers = 0\n",
        "i = 1\n",
        "\n",
        "# Use a while loop to calculate the sum\n",
        "while i <= n:\n",
        "    sum_numbers += i\n",
        "    i += 1\n",
        "\n",
        "# Print the result\n",
        "print(f\"The sum of all numbers from 1 to {n} is: {sum_numbers}\")"
      ]
    },
    {
      "cell_type": "code",
      "execution_count": null,
      "id": "ae93621f-11a2-40b7-97bc-3002f03ac36a",
      "metadata": {
        "id": "ae93621f-11a2-40b7-97bc-3002f03ac36a",
        "outputId": "07935f60-9a05-44b8-9729-26e696c77db3",
        "colab": {
          "base_uri": "https://localhost:8080/"
        }
      },
      "outputs": [
        {
          "output_type": "stream",
          "name": "stdout",
          "text": [
            "Enter a positive integer: -5\n",
            "Factorial is not defined for negative numbers.\n"
          ]
        }
      ],
      "source": [
        "# Write a Python program to calculate the factorial of a number using a while loop. (User input for the number)\n",
        "num = int(input(\"Enter a positive integer: \"))\n",
        "if num < 0:\n",
        "    print(\"Factorial is not defined for negative numbers.\")\n",
        "else:\n",
        "    factorial = 1\n",
        "    i = 1\n",
        "    while i <= num:\n",
        "        factorial *= i\n",
        "        i += 1\n",
        "    print(f\"The factorial of {num} is {factorial}.\")"
      ]
    },
    {
      "cell_type": "code",
      "execution_count": 2,
      "id": "68467ccc-d696-4ef1-84c4-164c9d87f755",
      "metadata": {
        "id": "68467ccc-d696-4ef1-84c4-164c9d87f755",
        "outputId": "7dc871ee-d511-4fda-a9bb-83b841d438de",
        "colab": {
          "base_uri": "https://localhost:8080/"
        }
      },
      "outputs": [
        {
          "output_type": "stream",
          "name": "stdout",
          "text": [
            "Enter the number of terms: 14\n",
            "Fibonacci sequence up to 14 terms:\n",
            "01123581321345589144233"
          ]
        }
      ],
      "source": [
        "# Write a Python program to print the Fibonacci sequence up to n terms. (User input for n)\n",
        "n = int(input(\"Enter the number of terms: \"))\n",
        "if n <= 0:\n",
        "    print(\"Please enter a positive integer.\")\n",
        "else:\n",
        "     a,b = 0,1\n",
        "     count = 0\n",
        "     print(f\"Fibonacci sequence up to {n} terms:\")\n",
        "while count < n:\n",
        "  print(a,end=\"\")\n",
        "  nth = a + b\n",
        "  a = b\n",
        "  b = nth\n",
        "  count += 1"
      ]
    },
    {
      "cell_type": "code",
      "execution_count": null,
      "id": "5bebd1f3-2606-4102-aa55-01cb1650f632",
      "metadata": {
        "id": "5bebd1f3-2606-4102-aa55-01cb1650f632",
        "outputId": "6794fedd-3c42-4845-a38d-3e8db0e46774",
        "colab": {
          "base_uri": "https://localhost:8080/"
        }
      },
      "outputs": [
        {
          "output_type": "stream",
          "name": "stdout",
          "text": [
            "Prime numbers from 1 to 100:\n",
            "[2, 3, 5, 7, 11, 13, 17, 19, 23, 29, 31, 37, 41, 43, 47, 53, 59, 61, 67, 71, 73, 79, 83, 89, 97]\n"
          ]
        }
      ],
      "source": [
        "# Write a Python program to find all the prime numbers from 1 to 100.\n",
        "def is_prime(num):\n",
        "    if num <= 1:\n",
        "        return False\n",
        "    for i in range(2, int(num ** 0.5) + 1):\n",
        "        if num % i == 0:\n",
        "            return False\n",
        "    return True\n",
        "\n",
        "def find_primes_in_range(start, end):\n",
        "    primes = []\n",
        "    for num in range(start, end + 1):\n",
        "        if is_prime(num):\n",
        "            primes.append(num)\n",
        "    return primes\n",
        "\n",
        "primes = find_primes_in_range(1, 100)\n",
        "print(\"Prime numbers from 1 to 100:\")\n",
        "print(primes)"
      ]
    },
    {
      "cell_type": "code",
      "execution_count": null,
      "id": "0a3f894e-52ba-4c0b-9158-a70f31f4fd49",
      "metadata": {
        "id": "0a3f894e-52ba-4c0b-9158-a70f31f4fd49",
        "outputId": "a2d77921-4bf5-4777-a316-97b3e4086374",
        "colab": {
          "base_uri": "https://localhost:8080/"
        }
      },
      "outputs": [
        {
          "output_type": "stream",
          "name": "stdout",
          "text": [
            "Generated numbers: [48, 147, 172, 85, 138, 47, 152, 43, 81, 98, 148, 168, 79, 109, 153, 30, 75, 139, 89, 75]\n",
            "Number greater than 50 found: 147\n"
          ]
        }
      ],
      "source": [
        "# Write a Python program that breaks out of a loop when a specific condition is met (e.g., when a number greater than 50 is found).\n",
        "import random\n",
        "numbers = [random.randint(1, 200) for _ in range(20)]\n",
        "print(\"Generated numbers:\", numbers)\n",
        "for number in numbers:\n",
        "    if number > 50:\n",
        "        print(f\"Number greater than 50 found: {number}\")\n",
        "        break\n",
        "else:\n",
        "    print(\"No number greater than 50 found.\")"
      ]
    },
    {
      "cell_type": "code",
      "execution_count": null,
      "id": "499b91d0-1f1b-494f-af2b-8cc3a06d90ed",
      "metadata": {
        "id": "499b91d0-1f1b-494f-af2b-8cc3a06d90ed",
        "outputId": "1326f556-94ae-4502-86ad-74fc2abf683d",
        "colab": {
          "base_uri": "https://localhost:8080/"
        }
      },
      "outputs": [
        {
          "output_type": "stream",
          "name": "stdout",
          "text": [
            "Enter lower range limit:1\n",
            "Enter upper range limit:20\n",
            "1\n",
            "3\n",
            "5\n",
            "7\n",
            "9\n",
            "11\n",
            "13\n",
            "15\n",
            "17\n",
            "19\n"
          ]
        }
      ],
      "source": [
        "# Write a Python program to skip even numbers while printing numbers from 1 to 20 using a for loop.\n",
        "lower = int(input(\"Enter lower range limit:\"))\n",
        "upper = int(input(\"Enter upper range limit:\"))\n",
        "for number in range(lower, upper):\n",
        "    if number % 2 == 0:\n",
        "        continue\n",
        "    print(number)"
      ]
    },
    {
      "cell_type": "code",
      "execution_count": null,
      "id": "f8ffed70-dfde-4262-a2fd-0d35d69b5fb1",
      "metadata": {
        "id": "f8ffed70-dfde-4262-a2fd-0d35d69b5fb1",
        "outputId": "d553146b-6577-4a4e-90cb-1b830af027a6",
        "colab": {
          "base_uri": "https://localhost:8080/"
        }
      },
      "outputs": [
        {
          "name": "stdout",
          "output_type": "stream",
          "text": [
            "Enter a string: 8\n",
            "Enter a character to count its occurrences: 9\n"
          ]
        }
      ],
      "source": [
        "# Write a Python program to count how many times a particular character appears in a string using a for loop. (User input for string and character)\n",
        "string = input(\"Enter a string: \")\n",
        "string = input(\"Enter a character to count its occurrences: \")\n",
        "count = 0\n",
        "for char in string:\n",
        "    if char == character:\n",
        "        count += 1"
      ]
    },
    {
      "cell_type": "code",
      "execution_count": null,
      "id": "01f976ed-4dcd-4842-ae84-d3b5cc42d011",
      "metadata": {
        "id": "01f976ed-4dcd-4842-ae84-d3b5cc42d011",
        "outputId": "0f675d97-9e03-4a20-c8aa-94d331852eaa",
        "colab": {
          "base_uri": "https://localhost:8080/"
        }
      },
      "outputs": [
        {
          "name": "stdout",
          "output_type": "stream",
          "text": [
            "Enter a number: 725\n"
          ]
        }
      ],
      "source": [
        "# Write a Python program to calculate the sum of digits of a number. (User input for the number)\n",
        "number = int(input(\"Enter a number: \"))\n",
        "sum_of_digits = 0\n",
        "while number > 0:\n",
        "    digit = number % 10\n",
        "    sum_of_digits += digit\n",
        "    number //= 10"
      ]
    },
    {
      "cell_type": "markdown",
      "id": "fe644fae-f262-48dd-b7ff-08eb747d297e",
      "metadata": {
        "id": "fe644fae-f262-48dd-b7ff-08eb747d297e"
      },
      "source": [
        "## Data Structures (Lists, Tuples, Sets, Dictionaries)"
      ]
    },
    {
      "cell_type": "code",
      "execution_count": null,
      "id": "a0333c26-8e19-4c71-9722-d32cf8625ef6",
      "metadata": {
        "id": "a0333c26-8e19-4c71-9722-d32cf8625ef6",
        "outputId": "3ed4a256-0512-470d-ce24-1ebb3cc772fe",
        "colab": {
          "base_uri": "https://localhost:8080/"
        }
      },
      "outputs": [
        {
          "output_type": "stream",
          "name": "stdout",
          "text": [
            "Sum of elements: 55\n",
            "[1, 2, 3, 4, 5, 6, 7, 8, 9, 10]\n"
          ]
        }
      ],
      "source": [
        "# Write a Python program to create a list of integers and print the sum of the elements.\n",
        "numbers = [1, 2, 3, 4, 5, 6, 7, 8, 9, 10]\n",
        "sum_of_elements = sum(numbers)\n",
        "print(\"Sum of elements:\", sum_of_elements)\n",
        "print(numbers)"
      ]
    },
    {
      "cell_type": "code",
      "execution_count": null,
      "id": "5a23046d-80b0-4f8d-a02f-4e3d833c0443",
      "metadata": {
        "id": "5a23046d-80b0-4f8d-a02f-4e3d833c0443",
        "outputId": "c1018def-b3aa-4e95-ae46-ecf6174ebe42",
        "colab": {
          "base_uri": "https://localhost:8080/"
        }
      },
      "outputs": [
        {
          "output_type": "stream",
          "name": "stdout",
          "text": [
            "Largest element: 97\n"
          ]
        }
      ],
      "source": [
        "# Write a Python program to find the largest element in a list.\n",
        "numbers = [1, 6, 29, 25, 39, 97, 25, 19, 45, 5, 7, 10]\n",
        "largest_element = max(numbers)\n",
        "print(\"Largest element:\", largest_element)"
      ]
    },
    {
      "cell_type": "code",
      "execution_count": null,
      "id": "9939c2d2-90fd-4e80-81bc-227c72e60e37",
      "metadata": {
        "id": "9939c2d2-90fd-4e80-81bc-227c72e60e37",
        "outputId": "533bdff2-edf6-486c-e5fd-9360179a7f6c",
        "colab": {
          "base_uri": "https://localhost:8080/"
        }
      },
      "outputs": [
        {
          "output_type": "stream",
          "name": "stdout",
          "text": [
            "Reversed list: [3, 7, 4, 5, 9]\n"
          ]
        }
      ],
      "source": [
        "# Write a Python program to reverse a list.\n",
        "numbers = [9, 5, 4, 7, 3]\n",
        "reversed_list = numbers[::-1]\n",
        "print(\"Reversed list:\", reversed_list)"
      ]
    },
    {
      "cell_type": "code",
      "execution_count": null,
      "id": "aa287db8-057b-48d4-a6d8-18cc53eb7178",
      "metadata": {
        "id": "aa287db8-057b-48d4-a6d8-18cc53eb7178",
        "outputId": "91089f37-112d-4db0-e735-f7d0d2d3366b",
        "colab": {
          "base_uri": "https://localhost:8080/"
        }
      },
      "outputs": [
        {
          "output_type": "stream",
          "name": "stdout",
          "text": [
            "original list: [3, 9, 5, 6, 8, 5, 7, 1, 5, 4]\n",
            "list after removing all occurrence of 5\n"
          ]
        },
        {
          "output_type": "execute_result",
          "data": {
            "text/plain": [
              "(None, ':', [3, 9, 6, 8, 7, 1, 4])"
            ]
          },
          "metadata": {},
          "execution_count": 27
        }
      ],
      "source": [
        "# Write a Python program to remove all occurrences of a specific element from a list.\n",
        "numbers = [3, 9, 5, 6, 8, 5, 7, 1, 5, 4]\n",
        "print(\"original list:\",numbers)\n",
        "element_to_remove = 5\n",
        "numbers = [num for num in numbers if num != element_to_remove]\n",
        "print(\"list after removing all occurrence of\",element_to_remove),\":\",numbers"
      ]
    },
    {
      "cell_type": "code",
      "execution_count": null,
      "id": "da9ba926-0ab5-46e9-b66d-128088c3225b",
      "metadata": {
        "id": "da9ba926-0ab5-46e9-b66d-128088c3225b",
        "outputId": "9e39dbc0-4932-439a-eb5d-a0e8534f73cc",
        "colab": {
          "base_uri": "https://localhost:8080/"
        }
      },
      "outputs": [
        {
          "output_type": "stream",
          "name": "stdout",
          "text": [
            "Index of 70 : 1\n",
            "[90, 70, 50, 30, 20, 40]\n"
          ]
        }
      ],
      "source": [
        "# Write a Python program to find the index of an element in a list.\n",
        "numbers = [90, 70, 50, 30, 20, 40]\n",
        "element_to_find = 70\n",
        "index = numbers.index(element_to_find)\n",
        "print(\"Index of\",element_to_find,\":\",index)\n",
        "print(numbers)"
      ]
    },
    {
      "cell_type": "code",
      "execution_count": null,
      "id": "9601b6e4-cb90-4e1f-87b4-38ed37076e0d",
      "metadata": {
        "id": "9601b6e4-cb90-4e1f-87b4-38ed37076e0d",
        "outputId": "84855b86-5c92-4b36-c4bb-631281fed4ce",
        "colab": {
          "base_uri": "https://localhost:8080/"
        }
      },
      "outputs": [
        {
          "output_type": "stream",
          "name": "stdout",
          "text": [
            "The element 56 does not exists in the list\n"
          ]
        }
      ],
      "source": [
        "# Write a Python program to find if a specific element exists in a list.\n",
        "numbers = [10, 50, 45, 70, 30, 25, 65]\n",
        "element_to_find = 56\n",
        "if element_to_find in numbers:\n",
        "    print(f\"The element {element_to_find} exists in the list.\")\n",
        "else:\n",
        "  print(f\"The element {element_to_find} does not exists in the list\")"
      ]
    },
    {
      "cell_type": "code",
      "execution_count": null,
      "id": "9d8e7311-81de-4da2-826c-c4dcad28ed9f",
      "metadata": {
        "id": "9d8e7311-81de-4da2-826c-c4dcad28ed9f",
        "outputId": "705e3562-ac45-4017-faf0-199f1e5fb8e4",
        "colab": {
          "base_uri": "https://localhost:8080/"
        }
      },
      "outputs": [
        {
          "output_type": "stream",
          "name": "stdout",
          "text": [
            "Original list: [9, 6, 4, 7, 5, 6, 3, 4, 2, 8]\n",
            "List after removing duplicates: [2, 3, 4, 5, 6, 7, 8, 9]\n"
          ]
        }
      ],
      "source": [
        "# Write a Python program to remove duplicates from a list.\n",
        "numbers = [9, 6, 4, 7, 5, 6, 3, 4, 2, 8]\n",
        "unique_numbers = list(set(numbers))\n",
        "print(\"Original list:\", numbers)\n",
        "print(\"List after removing duplicates:\", unique_numbers)"
      ]
    },
    {
      "cell_type": "code",
      "execution_count": null,
      "id": "09e5121b-97b3-42e4-8025-f28f3470681b",
      "metadata": {
        "id": "09e5121b-97b3-42e4-8025-f28f3470681b",
        "outputId": "342a41f2-229b-4a50-9e73-077a16b881be",
        "colab": {
          "base_uri": "https://localhost:8080/"
        }
      },
      "outputs": [
        {
          "output_type": "stream",
          "name": "stdout",
          "text": [
            "Original list: [0, 5, 6, 8, 7, 9, 5, 2, 3, 5]\n",
            "Number of occurrences of 5 : 3\n"
          ]
        }
      ],
      "source": [
        "# Write a Python program to count the occurrences of an element in a list.\n",
        "numbers = [0, 5, 6, 8, 7, 9, 5, 2, 3, 5]\n",
        "element_to_count = 5\n",
        "count = numbers.count(element_to_count)\n",
        "print(\"Original list:\", numbers)\n",
        "print(\"Number of occurrences of\",element_to_count,\":\",count)"
      ]
    },
    {
      "cell_type": "code",
      "execution_count": null,
      "id": "b774b741-e9a6-45db-8f00-e6d9b734d03a",
      "metadata": {
        "id": "b774b741-e9a6-45db-8f00-e6d9b734d03a",
        "outputId": "314ad141-d17a-438d-afcf-8e40d503204b",
        "colab": {
          "base_uri": "https://localhost:8080/"
        }
      },
      "outputs": [
        {
          "output_type": "stream",
          "name": "stdout",
          "text": [
            "Original list: [1, 2, 3, 4, 5, 6, 7, 8, 9, 10, 11, 12, 13, 14, 15, 16, 17, 18, 19, 20, 21, 22, 23, 24, 25, 26, 27, 28, 29, 30]\n",
            "Number of even numbers: 15\n"
          ]
        }
      ],
      "source": [
        "# Write a Python program to get the number of even numbers in a list.\n",
        "numbers = [1,2,3,4,5,6,7,8,9,10,11,12,13,14,15,16,17,18,19,20,21,22,23,24,25,26,27,28,29,30]\n",
        "even_count = sum(1 for num in numbers if num % 2 == 0)\n",
        "print(\"Original list:\", numbers)\n",
        "print(\"Number of even numbers:\", even_count)"
      ]
    },
    {
      "cell_type": "code",
      "execution_count": null,
      "id": "5ce4fd2b-ab16-4b40-9ac2-d19c244d8d96",
      "metadata": {
        "id": "5ce4fd2b-ab16-4b40-9ac2-d19c244d8d96",
        "outputId": "46193afc-90ce-4e0b-fd43-bdb995ca469a",
        "colab": {
          "base_uri": "https://localhost:8080/"
        }
      },
      "outputs": [
        {
          "output_type": "stream",
          "name": "stdout",
          "text": [
            "My tuple: (9, 7, 5, 3, 1)\n"
          ]
        }
      ],
      "source": [
        "# Write a Python program to create a tuple and print it.\n",
        "tuple = (9 , 7, 5, 3, 1,)\n",
        "print(\"My tuple:\", tuple)"
      ]
    },
    {
      "cell_type": "code",
      "execution_count": 3,
      "id": "5c04f880-6e96-4ef4-9f4b-df21aae76ff1",
      "metadata": {
        "id": "5c04f880-6e96-4ef4-9f4b-df21aae76ff1",
        "outputId": "9a88cd0f-3fce-4c72-a7b7-e2a945f01473",
        "colab": {
          "base_uri": "https://localhost:8080/"
        }
      },
      "outputs": [
        {
          "output_type": "stream",
          "name": "stdout",
          "text": [
            "Tuple: (100, 90, 80, 70, 60)\n",
            "Converted to list: [100, 90, 80, 70, 60]\n",
            "\n",
            "List: [50, 40, 30, 20, 10]\n",
            "Converted to tuple:\n",
            " my_tuple\n"
          ]
        }
      ],
      "source": [
        "# Write a Python program to convert a tuple to a list and vice versa.\n",
        "my_tuple = (100, 90, 80, 70, 60)\n",
        "my_list = list(my_tuple)\n",
        "print(\"Tuple:\", my_tuple)\n",
        "print(\"Converted to list:\", my_list)\n",
        "\n",
        "my_list = [50, 40, 30, 20, 10]\n",
        "my_tuple = tuple(my_list)\n",
        "print(\"\\nList:\", my_list)\n",
        "print(\"Converted to tuple:\")\n",
        "print(\" my_tuple\")"
      ]
    },
    {
      "cell_type": "code",
      "execution_count": null,
      "id": "d5192acc-27f3-456e-9c72-3b276a587bf5",
      "metadata": {
        "id": "d5192acc-27f3-456e-9c72-3b276a587bf5",
        "outputId": "6aaaf141-cc03-401e-eb3f-d85797bb1be3",
        "colab": {
          "base_uri": "https://localhost:8080/"
        }
      },
      "outputs": [
        {
          "output_type": "stream",
          "name": "stdout",
          "text": [
            "Tuple: (56, 75, 36, 65, 89, 95, 57, 23, 41, 15)\n",
            "Maximum value: 95\n",
            "Minimum value: 15\n"
          ]
        }
      ],
      "source": [
        "# Write a Python program to find the maximum and minimum values in a tuple.\n",
        "numbers = (56, 75, 36, 65, 89, 95, 57, 23, 41, 15)\n",
        "max_value = max(numbers)\n",
        "min_value = min(numbers)\n",
        "print(\"Tuple:\", numbers)\n",
        "print(\"Maximum value:\", max_value)\n",
        "print(\"Minimum value:\", min_value)"
      ]
    },
    {
      "cell_type": "code",
      "execution_count": null,
      "id": "43f0a340-9407-4302-af7e-4e63db578bbf",
      "metadata": {
        "id": "43f0a340-9407-4302-af7e-4e63db578bbf",
        "outputId": "16ce7be1-f377-4360-9fa3-d1a80adb9edb",
        "colab": {
          "base_uri": "https://localhost:8080/"
        }
      },
      "outputs": [
        {
          "output_type": "stream",
          "name": "stdout",
          "text": [
            "value of a: 700\n",
            "value of b: 500\n",
            "value of c: 600\n"
          ]
        }
      ],
      "source": [
        "# Write a Python program to unpack a tuple into variables.\n",
        "my_tuple = (700, 500, 600)\n",
        "a, b, c = my_tuple\n",
        "print(\"value of a:\", a)\n",
        "print(\"value of b:\", b)\n",
        "print(\"value of c:\", c)"
      ]
    },
    {
      "cell_type": "code",
      "execution_count": null,
      "id": "46e96e29-2157-4b9f-bb24-0bd973eada9f",
      "metadata": {
        "id": "46e96e29-2157-4b9f-bb24-0bd973eada9f",
        "outputId": "4158e9f0-7554-4f0a-a319-e3f84ed1e718",
        "colab": {
          "base_uri": "https://localhost:8080/"
        }
      },
      "outputs": [
        {
          "output_type": "stream",
          "name": "stdout",
          "text": [
            "set after adding an element: {1, 2, 3, 4, 5, 6, 7, 8, 9}\n",
            "10 does not exists in the set.\n"
          ]
        }
      ],
      "source": [
        "# Write a Python program to add an element to a set and check if an element exists in the set\n",
        "my_set = {9, 8, 7, 6, 5, 4, 3, 2, 1}\n",
        "my_set.add(8)\n",
        "print(\"set after adding an element:\", my_set)\n",
        "element_to_check = 10\n",
        "if element_to_check in my_set:\n",
        "   print(f\"{element_to_check} exists in the set.\")\n",
        "else:\n",
        "  print(f\"{element_to_check} does not exists in the set.\")"
      ]
    },
    {
      "cell_type": "code",
      "execution_count": null,
      "id": "d81a803b-fd80-403e-9ae3-680ef44a3d86",
      "metadata": {
        "id": "d81a803b-fd80-403e-9ae3-680ef44a3d86",
        "outputId": "0ceff818-7093-4046-e015-147482cf43b1",
        "colab": {
          "base_uri": "https://localhost:8080/"
        }
      },
      "outputs": [
        {
          "output_type": "stream",
          "name": "stdout",
          "text": [
            "Dictionary: {'Name': 'Jyothi', 'Age': 19, 'City': 'India', 'Profession': 'Engineer'}\n"
          ]
        }
      ],
      "source": [
        "# Write a Python program to create a dictionary with keys and values and print it.\n",
        "my_dict = {\n",
        "    \"Name\": \"Jyothi\",\n",
        "    \"Age\": 19,\n",
        "    \"City\": \"India\",\n",
        "    \"Profession\": \"Engineer\"\n",
        "}\n",
        "print(\"Dictionary:\", my_dict)"
      ]
    },
    {
      "cell_type": "code",
      "execution_count": null,
      "id": "7432174b-fe75-4371-b23a-e2c5d62edb15",
      "metadata": {
        "id": "7432174b-fe75-4371-b23a-e2c5d62edb15",
        "outputId": "5edf97b9-94e2-4597-e984-628cb80b2830",
        "colab": {
          "base_uri": "https://localhost:8080/"
        }
      },
      "outputs": [
        {
          "output_type": "stream",
          "name": "stdout",
          "text": [
            "The key 'City' does not exist in the dictionary.\n"
          ]
        }
      ],
      "source": [
        "# Write a Python program to access a dictionary value using a key.\n",
        "my_dict = {\n",
        "    \"Name\": \"sirisha\",\n",
        "    \"Age\": 19,\n",
        "    \"Profession\": \"Singer\"\n",
        "}\n",
        "key_to_access = \"City\"\n",
        "value = my_dict.get(key_to_access)\n",
        "if value:\n",
        "    print(f\"The value for the key '{key_to_access}' is: {value}\")\n",
        "else:\n",
        "    print(f\"The key '{key_to_access}' does not exist in the dictionary.\")"
      ]
    },
    {
      "cell_type": "code",
      "execution_count": null,
      "id": "000b3260-d91f-41f2-9729-4b0124f2c4d2",
      "metadata": {
        "id": "000b3260-d91f-41f2-9729-4b0124f2c4d2",
        "outputId": "1b8aa313-bbdb-4420-d076-d6f7130ca5da",
        "colab": {
          "base_uri": "https://localhost:8080/"
        }
      },
      "outputs": [
        {
          "output_type": "stream",
          "name": "stdout",
          "text": [
            "The key 'Age' exists in the dictionary.\n"
          ]
        }
      ],
      "source": [
        "# Write a Python program to check if a key exists in a dictionary.\n",
        "my_dict = {\n",
        "    \"Name\": \"swetha\",\n",
        "    \"Age\": 19,\n",
        "    \"City\": \"US\",\n",
        "    \"Profession\": \"B-Tech\"\n",
        "}\n",
        "key_to_check = \"Age\"\n",
        "if key_to_check in my_dict:\n",
        "    print(f\"The key '{key_to_check}' exists in the dictionary.\")\n",
        "else:\n",
        "    print(f\"The key '{key_to_check}' does not exist in the dictionary.\")"
      ]
    },
    {
      "cell_type": "code",
      "execution_count": null,
      "id": "c4b1a942-818e-42c1-b742-1fabe80fca6d",
      "metadata": {
        "id": "c4b1a942-818e-42c1-b742-1fabe80fca6d",
        "outputId": "ec9ed2c7-a56d-457d-df71-d025cafa5712",
        "colab": {
          "base_uri": "https://localhost:8080/"
        }
      },
      "outputs": [
        {
          "output_type": "stream",
          "name": "stdout",
          "text": [
            "Merged Dictionary: {'Name': 'Meghana', 'Age': 25, 'City': 'Mumbai', 'Profession': 'Engineer'}\n"
          ]
        }
      ],
      "source": [
        "# Write a Python program to merge two dictionaries.\n",
        "dict1 = {\"Name\": \"Meghana\", \"Age\": 25}\n",
        "dict2 = {\"City\": \"Mumbai\", \"Profession\": \"Engineer\"}\n",
        "merged_dict = dict1.copy()\n",
        "merged_dict.update(dict2)\n",
        "print(\"Merged Dictionary:\", merged_dict)\n",
        "merged_dict_alt = {**dict1, **dict2}"
      ]
    },
    {
      "cell_type": "code",
      "execution_count": null,
      "id": "a78f1070-3ff3-436a-8391-153f019f53cd",
      "metadata": {
        "id": "a78f1070-3ff3-436a-8391-153f019f53cd",
        "outputId": "269dc505-3756-47f5-b07a-63bfc8a75fdb",
        "colab": {
          "base_uri": "https://localhost:8080/"
        }
      },
      "outputs": [
        {
          "output_type": "stream",
          "name": "stdout",
          "text": [
            "Key 'City' with value 'hyderabad' was removed.\n",
            "Updated Dictionary: {'Name': 'meghana', 'Age': 20, 'Profession': 'Engineer'}\n"
          ]
        }
      ],
      "source": [
        "# Write a Python program to remove a key from a dictionary.\n",
        "my_dict = {\n",
        "    \"Name\": \"meghana\",\n",
        "    \"Age\": 20,\n",
        "    \"City\": \"hyderabad\",\n",
        "    \"Profession\": \"Engineer\"\n",
        "}\n",
        "key_to_remove = \"City\"\n",
        "if key_to_remove in my_dict:\n",
        "    removed_value = my_dict.pop(key_to_remove)\n",
        "    print(f\"Key '{key_to_remove}' with value '{removed_value}' was removed.\")\n",
        "else:\n",
        "    print(f\"Key '{key_to_remove}' does not exist.\")\n",
        "print(\"Updated Dictionary:\", my_dict)"
      ]
    },
    {
      "cell_type": "code",
      "execution_count": null,
      "id": "fcba0267-8cc4-4e89-9e78-2d820916c177",
      "metadata": {
        "id": "fcba0267-8cc4-4e89-9e78-2d820916c177",
        "outputId": "aa7d4f5d-8244-44db-8a41-debb88165a18",
        "colab": {
          "base_uri": "https://localhost:8080/"
        }
      },
      "outputs": [
        {
          "output_type": "stream",
          "name": "stdout",
          "text": [
            "The number of keys in the dictionary is: 3\n"
          ]
        }
      ],
      "source": [
        "# Write a Python program to get the number of keys in a dictionary.\n",
        "my_dict = {\n",
        "    \"Name\": \"aruna\",\n",
        "    \"Age\": 20,\n",
        "    \"Profession\": \"Engineer\"\n",
        "}\n",
        "num_keys = len(my_dict)\n",
        "print(f\"The number of keys in the dictionary is: {num_keys}\")"
      ]
    },
    {
      "cell_type": "code",
      "execution_count": null,
      "id": "d4c5fd77-9656-43e5-8fe2-be7dca23eb6d",
      "metadata": {
        "id": "d4c5fd77-9656-43e5-8fe2-be7dca23eb6d",
        "outputId": "d4dff3b2-ba9a-4bfe-f19c-c4d47727193b",
        "colab": {
          "base_uri": "https://localhost:8080/"
        }
      },
      "outputs": [
        {
          "output_type": "stream",
          "name": "stdout",
          "text": [
            "Dictionary: {'a': 19, 'b': 28, 'c': 37, 'd': 46, 'e': 55}\n",
            "Largest value: 55\n",
            "Smallest value: 19\n"
          ]
        }
      ],
      "source": [
        "# Write a Python program to find the largest and smallest values in a dictionary.\n",
        "my_dict = {\n",
        "    \"a\": 19,\n",
        "    \"b\": 28,\n",
        "    \"c\": 37,\n",
        "    \"d\": 46,\n",
        "    \"e\": 55\n",
        "}\n",
        "largest_value = max(my_dict.values())\n",
        "smallest_value = min(my_dict.values())\n",
        "print(\"Dictionary:\", my_dict)\n",
        "print(\"Largest value:\", largest_value)\n",
        "print(\"Smallest value:\", smallest_value)"
      ]
    },
    {
      "cell_type": "markdown",
      "id": "7830b8cc-9a90-45a2-8e4a-6f3c2b8b133b",
      "metadata": {
        "id": "7830b8cc-9a90-45a2-8e4a-6f3c2b8b133b"
      },
      "source": [
        "## Functions (User-Defined, Arguments, Keyword Arguments, Return Values)"
      ]
    },
    {
      "cell_type": "code",
      "execution_count": 4,
      "id": "06a33fba-c6b1-4989-90f4-b647d1fe1627",
      "metadata": {
        "id": "06a33fba-c6b1-4989-90f4-b647d1fe1627",
        "outputId": "d0a24af1-a1c6-4df2-8d6a-3e8951969a16",
        "colab": {
          "base_uri": "https://localhost:8080/"
        }
      },
      "outputs": [
        {
          "output_type": "stream",
          "name": "stdout",
          "text": [
            "The square of 14 is: 196\n"
          ]
        }
      ],
      "source": [
        "# Write a Python function that returns the square of a number.\n",
        "def square(num):\n",
        "    return num ** 2\n",
        "number = 14\n",
        "result = square(number)\n",
        "print(f\"The square of {number} is: {result}\")"
      ]
    },
    {
      "cell_type": "code",
      "execution_count": 5,
      "id": "91d90a4a-7329-45db-893b-caed8450ba96",
      "metadata": {
        "id": "91d90a4a-7329-45db-893b-caed8450ba96",
        "outputId": "2720ef03-912f-452a-b34c-21427e8a5880",
        "colab": {
          "base_uri": "https://localhost:8080/"
        }
      },
      "outputs": [
        {
          "output_type": "stream",
          "name": "stdout",
          "text": [
            "The sum of 21 and 14 is: 35\n"
          ]
        }
      ],
      "source": [
        "# Write a Python function that accepts two parameters and returns their sum.\n",
        "def add_numbers(a, b):\n",
        "    return a + b\n",
        "num1 = 21\n",
        "num2 = 14\n",
        "result = add_numbers(num1, num2)\n",
        "print(f\"The sum of {num1} and {num2} is: {result}\")"
      ]
    },
    {
      "cell_type": "code",
      "execution_count": 6,
      "id": "dec2f9a5-90c5-478b-890b-0a506ecf45d3",
      "metadata": {
        "id": "dec2f9a5-90c5-478b-890b-0a506ecf45d3",
        "outputId": "876ad424-d3e7-4e62-a2c9-92e76283fae8",
        "colab": {
          "base_uri": "https://localhost:8080/"
        }
      },
      "outputs": [
        {
          "output_type": "stream",
          "name": "stdout",
          "text": [
            "14 is not a prime number.\n"
          ]
        }
      ],
      "source": [
        "# Write a Python function to check if a given number is prime.\n",
        "def is_prime(num):\n",
        "    if num <= 1:\n",
        "        return False\n",
        "    for i in range(2, int(num ** 0.5) + 1):\n",
        "        if num % i == 0:\n",
        "            return False\n",
        "    return True\n",
        "number = 14\n",
        "if is_prime(number):\n",
        "    print(f\"{number} is a prime number.\")\n",
        "else:\n",
        "    print(f\"{number} is not a prime number.\")"
      ]
    },
    {
      "cell_type": "code",
      "execution_count": 7,
      "id": "56337441-68c3-45df-8733-a34cde0533a5",
      "metadata": {
        "id": "56337441-68c3-45df-8733-a34cde0533a5",
        "outputId": "e6425219-c8e3-4b69-c4db-90df6fd19d79",
        "colab": {
          "base_uri": "https://localhost:8080/"
        }
      },
      "outputs": [
        {
          "output_type": "stream",
          "name": "stdout",
          "text": [
            "The factorial of 24 is: 620448401733239439360000\n"
          ]
        }
      ],
      "source": [
        "# Write a Python function to calculate the factorial of a number using recursion.\n",
        "def factorial(n):\n",
        "    if n == 0:\n",
        "        return 1\n",
        "    else:\n",
        "        return n * factorial(n - 1)\n",
        "number = 24\n",
        "result = factorial(number)\n",
        "print(f\"The factorial of {number} is: {result}\")"
      ]
    },
    {
      "cell_type": "code",
      "execution_count": 8,
      "id": "84a2d010-e7b2-409b-b1f4-99bf806bb77a",
      "metadata": {
        "id": "84a2d010-e7b2-409b-b1f4-99bf806bb77a",
        "outputId": "7885ea0d-1bdd-4971-8833-5caa465b58d4",
        "colab": {
          "base_uri": "https://localhost:8080/"
        }
      },
      "outputs": [
        {
          "output_type": "stream",
          "name": "stdout",
          "text": [
            "14 to the power of 7 is: 105413504\n"
          ]
        }
      ],
      "source": [
        "# Write a Python function to calculate the power of a number using recursion.\n",
        "def power(base, exponent):\n",
        "    if exponent == 0:\n",
        "        return 1\n",
        "    elif exponent < 0:\n",
        "        return 1 / power(base, -exponent)\n",
        "    else:\n",
        "        return base * power(base, exponent - 1)\n",
        "base = 14\n",
        "exponent = 7\n",
        "result = power(base, exponent)\n",
        "print(f\"{base} to the power of {exponent} is: {result}\")"
      ]
    },
    {
      "cell_type": "code",
      "execution_count": 9,
      "id": "ec44911e-7820-46cc-96a3-4ca443888837",
      "metadata": {
        "id": "ec44911e-7820-46cc-96a3-4ca443888837",
        "outputId": "5f7216b7-b4b6-4a9f-f4bd-68d8090effd8",
        "colab": {
          "base_uri": "https://localhost:8080/"
        }
      },
      "outputs": [
        {
          "output_type": "stream",
          "name": "stdout",
          "text": [
            "The length of the list is: 10\n"
          ]
        }
      ],
      "source": [
        "# Write a Python function to accept a list and return its length without using the built-in len() function.\n",
        "def custom_length(lst):\n",
        "    count = 0\n",
        "    for _ in lst:\n",
        "        count += 1\n",
        "    return count\n",
        "my_list = [10, 9, 8, 7, 6, 5, 4, 3, 2, 1]\n",
        "result = custom_length(my_list)\n",
        "print(f\"The length of the list is: {result}\")"
      ]
    },
    {
      "cell_type": "code",
      "execution_count": 10,
      "id": "fb4c08e1-34f3-487a-a1c6-77cd60fb4836",
      "metadata": {
        "id": "fb4c08e1-34f3-487a-a1c6-77cd60fb4836",
        "outputId": "8f5cc5fe-2891-4efc-ef9b-4b95959d3829",
        "colab": {
          "base_uri": "https://localhost:8080/"
        }
      },
      "outputs": [
        {
          "output_type": "stream",
          "name": "stdout",
          "text": [
            "The sum of the positional arguments is: 35\n"
          ]
        }
      ],
      "source": [
        "# Write a Python function that accepts both positional and keyword arguments and prints the sum of positional arguments.\n",
        "def sum_positional(*args, **kwargs):\n",
        "    total = sum(args)\n",
        "    print(f\"The sum of the positional arguments is: {total}\")\n",
        "sum_positional(9, 8, 7, 6, 5, name=\"Akkila\", age=25)"
      ]
    },
    {
      "cell_type": "code",
      "execution_count": 11,
      "id": "f4ffc7a8-f579-461c-b507-4085a0477283",
      "metadata": {
        "id": "f4ffc7a8-f579-461c-b507-4085a0477283",
        "outputId": "103d8689-c15b-4dfd-f449-4c9e8cb4cb36",
        "colab": {
          "base_uri": "https://localhost:8080/"
        }
      },
      "outputs": [
        {
          "output_type": "stream",
          "name": "stdout",
          "text": [
            "The maximum of the two numbers is: 240\n"
          ]
        }
      ],
      "source": [
        "# Write a Python function to find the maximum of two numbers using keyword arguments.\n",
        "def find_maximum(**kwargs):\n",
        "    num1 = kwargs.get('num1')\n",
        "    num2 = kwargs.get('num2')\n",
        "    if num1 is None or num2 is None:\n",
        "        return \"Please provide both 'num1' and 'num2' as keyword arguments.\"\n",
        "    return max(num1, num2)\n",
        "result = find_maximum(num1=14, num2=240)\n",
        "print(f\"The maximum of the two numbers is: {result}\")"
      ]
    },
    {
      "cell_type": "code",
      "execution_count": 12,
      "id": "0b00c4af-89e0-43e8-a991-1b684d2ce33f",
      "metadata": {
        "id": "0b00c4af-89e0-43e8-a991-1b684d2ce33f",
        "outputId": "b232a81d-df76-453b-94d0-a9d830314cdb",
        "colab": {
          "base_uri": "https://localhost:8080/"
        }
      },
      "outputs": [
        {
          "output_type": "stream",
          "name": "stdout",
          "text": [
            "The product of the numbers is: None\n"
          ]
        }
      ],
      "source": [
        "# Write a Python function that accepts a list of numbers and returns their product.\n",
        "def calculate_product(numbers):\n",
        "    product = 1\n",
        "    for num in numbers:\n",
        "        product *= num\n",
        "    return\n",
        "    product\n",
        "numbers_list = [11, 22, 33, 44, 55]\n",
        "result = calculate_product(numbers_list)\n",
        "print(f\"The product of the numbers is: {result}\")"
      ]
    },
    {
      "cell_type": "code",
      "execution_count": 13,
      "id": "9cd11703-5b48-44fe-af4e-ea906a2762c9",
      "metadata": {
        "id": "9cd11703-5b48-44fe-af4e-ea906a2762c9",
        "outputId": "c6bf5a4b-f6ca-45bc-9d10-b1ee10301aa0",
        "colab": {
          "base_uri": "https://localhost:8080/"
        }
      },
      "outputs": [
        {
          "output_type": "stream",
          "name": "stdout",
          "text": [
            "14 is even.\n",
            "11 is odd.\n"
          ]
        }
      ],
      "source": [
        "# Write a Python function to check if a number is even or odd using the modulo operator.\n",
        "def check_even_odd(number):\n",
        "    if number % 2 == 0:\n",
        "        return f\"{number} is even.\"\n",
        "    else:\n",
        "        return f\"{number} is odd.\"\n",
        "\n",
        "result = check_even_odd(14)\n",
        "print(result)\n",
        "\n",
        "result = check_even_odd(11)\n",
        "print(result)"
      ]
    },
    {
      "cell_type": "code",
      "execution_count": 17,
      "id": "afbf262e-daed-40a9-827f-82fa60979610",
      "metadata": {
        "id": "afbf262e-daed-40a9-827f-82fa60979610",
        "outputId": "3e5a610d-77fa-4489-dc76-22327ffc9db6",
        "colab": {
          "base_uri": "https://localhost:8080/"
        }
      },
      "outputs": [
        {
          "output_type": "stream",
          "name": "stdout",
          "text": [
            "[196, 225, 256, 289, 324, 361, 400, 441, 484, 529, 576, 625, 676, 729, 784, 841, 900, 961, 1024, 1089, 1156, 1225, 1296, 1369, 1444, 1521, 1600, 1681, 1764, 1849, 1936]\n"
          ]
        }
      ],
      "source": [
        "# Write a Python program to create a list of squares of numbers from 1 to 10 using list comprehension.\n",
        "squares = [x ** 2 for x in range(14, 45)]\n",
        "print(squares)"
      ]
    },
    {
      "cell_type": "code",
      "execution_count": 18,
      "id": "7fff76d8-9ba8-4006-9be6-6f7350092d1c",
      "metadata": {
        "id": "7fff76d8-9ba8-4006-9be6-6f7350092d1c",
        "outputId": "c77017ad-e3b7-4d52-adfd-a1b3ef738144",
        "colab": {
          "base_uri": "https://localhost:8080/"
        }
      },
      "outputs": [
        {
          "output_type": "stream",
          "name": "stdout",
          "text": [
            "[2, 4, 6, 8, 10, 12, 14, 16, 18, 20, 22, 24, 26, 28, 30]\n"
          ]
        }
      ],
      "source": [
        "# Write a Python program to filter out all even numbers from a list using list comprehension.\n",
        "numbers = [1, 2, 3, 4, 5, 6, 7, 8, 9, 10, 11, 12, 13, 14, 15, 16, 17, 18, 19, 20, 21, 22, 23, 24, 25, 26, 27, 28, 29, 30]\n",
        "even_numbers = [num for num in numbers if num % 2 == 0]\n",
        "print(even_numbers)"
      ]
    },
    {
      "cell_type": "code",
      "execution_count": 19,
      "id": "6ae9b8df-38f9-4fd7-bad1-aa7b07cc9271",
      "metadata": {
        "id": "6ae9b8df-38f9-4fd7-bad1-aa7b07cc9271",
        "outputId": "6d87519f-80df-411a-de3e-d46f95df1ae6",
        "colab": {
          "base_uri": "https://localhost:8080/"
        }
      },
      "outputs": [
        {
          "output_type": "stream",
          "name": "stdout",
          "text": [
            "['devops', 'computer networks', 'history']\n"
          ]
        }
      ],
      "source": [
        "# Write a Python program to create a list of strings that are longer than 4 characters from a given list of words using list comprehension.\n",
        "words = [\"devops\", \"computer networks\", \"ipr\", \"java\", \"daa\", \"history\", \"aiml\"]\n",
        "long_words = [word for word in words if len(word) > 4]\n",
        "print(long_words)"
      ]
    },
    {
      "cell_type": "code",
      "execution_count": 20,
      "id": "f492c7d4-6ad3-48ab-9b61-232be02aecee",
      "metadata": {
        "id": "f492c7d4-6ad3-48ab-9b61-232be02aecee",
        "outputId": "5733a177-2e88-4b41-e648-818ffe0b5e59",
        "colab": {
          "base_uri": "https://localhost:8080/"
        }
      },
      "outputs": [
        {
          "output_type": "stream",
          "name": "stdout",
          "text": [
            "Uppercase letters in the string: ['S', 'M', 'D', 'S', 'G']\n"
          ]
        }
      ],
      "source": [
        "# Write a Python program to create a list of all uppercase letters in a string using list comprehension.\n",
        "def get_uppercase_letters(input_string):\n",
        "    uppercase_letters = [char for char in input_string if char.isupper()]\n",
        "    return uppercase_letters\n",
        "\n",
        "input_string = \"Siddula Meghana Daughter of Siddula Ganesh \"\n",
        "result = get_uppercase_letters(input_string)\n",
        "print(\"Uppercase letters in the string:\", result)"
      ]
    },
    {
      "cell_type": "code",
      "execution_count": 21,
      "id": "929a7f74-1762-4a2a-be23-bacf67ff4d8b",
      "metadata": {
        "id": "929a7f74-1762-4a2a-be23-bacf67ff4d8b",
        "outputId": "ffd4a29e-8e7e-46bc-d469-ab6644fe5910",
        "colab": {
          "base_uri": "https://localhost:8080/"
        }
      },
      "outputs": [
        {
          "output_type": "stream",
          "name": "stdout",
          "text": [
            "The first 14 Fibonacci numbers are: [0, 1, 1, 2, 3, 5, 8, 13, 21, 34, 55, 89, 144, 233]\n"
          ]
        }
      ],
      "source": [
        "# Write a Python program to generate the first n Fibonacci numbers using list comprehension.\n",
        "def fibonacci_numbers(n):\n",
        "    fib = [0, 1]\n",
        "    [fib.append(fib[-1] + fib[-2]) for _ in range(2, n)]\n",
        "    return fib[:n]\n",
        "n = 14\n",
        "result = fibonacci_numbers(n)\n",
        "print(f\"The first {n} Fibonacci numbers are: {result}\")"
      ]
    },
    {
      "cell_type": "code",
      "execution_count": 22,
      "id": "47188bbc-cf62-47bb-a14e-0582c8b5cdd9",
      "metadata": {
        "id": "47188bbc-cf62-47bb-a14e-0582c8b5cdd9",
        "outputId": "b411b159-f963-4f6e-c366-8d54fb24b5ea",
        "colab": {
          "base_uri": "https://localhost:8080/"
        }
      },
      "outputs": [
        {
          "output_type": "stream",
          "name": "stdout",
          "text": [
            "Dictionary of numbers and their squares up to 14: {1: 1, 2: 4, 3: 9, 4: 16, 5: 25, 6: 36, 7: 49, 8: 64, 9: 81, 10: 100, 11: 121, 12: 144, 13: 169, 14: 196}\n"
          ]
        }
      ],
      "source": [
        "# Write a Python program to create a dictionary where keys are numbers and values are their squares using dictionary comprehension.\n",
        "def create_square_dict(n):\n",
        "    square_dict = {x: x**2 for x in range(1, n+1)}\n",
        "    return square_dict\n",
        "n = 14\n",
        "result = create_square_dict(n)\n",
        "print(f\"Dictionary of numbers and their squares up to {n}: {result}\")"
      ]
    },
    {
      "cell_type": "code",
      "execution_count": 23,
      "id": "3c4637d3-aa85-4b4c-acf3-953c10818bcb",
      "metadata": {
        "id": "3c4637d3-aa85-4b4c-acf3-953c10818bcb",
        "outputId": "71f80e4d-823f-4f09-e417-55bd6e7d9657",
        "colab": {
          "base_uri": "https://localhost:8080/"
        }
      },
      "outputs": [
        {
          "output_type": "stream",
          "name": "stdout",
          "text": [
            "{'a': 22, 'b': 44, 'c': 66, 'd': 88}\n"
          ]
        }
      ],
      "source": [
        "# Write a Python program to create a dictionary from two lists (one for keys and one for values) using dictionary comprehension.\n",
        "keys = [\"a\", \"b\", \"c\", \"d\"]\n",
        "values = [22, 44, 66, 88]\n",
        "result = {key: value for key, value in zip(keys, values)}\n",
        "print(result)"
      ]
    },
    {
      "cell_type": "code",
      "execution_count": 26,
      "id": "de817d6f-96e7-4346-839e-1ef0df539b6b",
      "metadata": {
        "id": "de817d6f-96e7-4346-839e-1ef0df539b6b",
        "outputId": "36186b36-6ce9-40b7-9ae0-059dc1114e93",
        "colab": {
          "base_uri": "https://localhost:8080/"
        }
      },
      "outputs": [
        {
          "output_type": "stream",
          "name": "stdout",
          "text": [
            "Dictionary of numbers and their cubes: {14: 2744, 15: 3375, 16: 4096, 17: 4913, 18: 5832, 19: 6859, 20: 8000, 21: 9261, 22: 10648, 23: 12167}\n"
          ]
        }
      ],
      "source": [
        "# Write a Python program to create a dictionary of numbers from 1 to 5 and their cubes using dictionary comprehension.\n",
        "def create_cube_dict():\n",
        "    cube_dict = {x: x**3 for x in range(14, 24)}\n",
        "    return cube_dict\n",
        "result = create_cube_dict()\n",
        "print(f\"Dictionary of numbers and their cubes: {result}\")"
      ]
    },
    {
      "cell_type": "code",
      "execution_count": 27,
      "id": "33695301-057e-49a6-9f80-a2f4e3af60ed",
      "metadata": {
        "id": "33695301-057e-49a6-9f80-a2f4e3af60ed",
        "outputId": "84359891-6cf0-41db-c5e2-39af5b4aca50",
        "colab": {
          "base_uri": "https://localhost:8080/"
        }
      },
      "outputs": [
        {
          "output_type": "stream",
          "name": "stdout",
          "text": [
            "Squared elements of the list: [144, 1024, 1849, 2916, 4225, 5776, 7569]\n"
          ]
        }
      ],
      "source": [
        "# Write a Python program to square each element of a list using the map() function.\n",
        "def square_elements(input_list):\n",
        "    return list(map(lambda x: x**2, input_list))\n",
        "input_list = [12, 32, 43, 54, 65, 76, 87]\n",
        "result = square_elements(input_list)\n",
        "print(f\"Squared elements of the list: {result}\")"
      ]
    },
    {
      "cell_type": "code",
      "execution_count": 28,
      "id": "6d4d17f3-c40f-4944-8656-c6416b600361",
      "metadata": {
        "id": "6d4d17f3-c40f-4944-8656-c6416b600361",
        "outputId": "2ddc549d-61a4-4e76-b688-5e3280412c4d",
        "colab": {
          "base_uri": "https://localhost:8080/"
        }
      },
      "outputs": [
        {
          "output_type": "stream",
          "name": "stdout",
          "text": [
            "Even numbers from the list: [100, 92, 74, 56, 38, 10, 32, 74]\n"
          ]
        }
      ],
      "source": [
        "# Write a Python program to filter all even numbers from a list using the filter() function.\n",
        "def filter_even_numbers(input_list):\n",
        "    return list(filter(lambda x: x % 2 == 0, input_list))\n",
        "\n",
        "input_list = [100, 92, 83, 74, 65, 56, 47, 38, 29, 10, 32, 53, 74, 15]\n",
        "result = filter_even_numbers(input_list)\n",
        "print(f\"Even numbers from the list: {result}\")"
      ]
    },
    {
      "cell_type": "code",
      "execution_count": 30,
      "id": "6634ba1f-9f81-475e-b7c4-422d102afb75",
      "metadata": {
        "id": "6634ba1f-9f81-475e-b7c4-422d102afb75",
        "outputId": "071bdbf5-867b-4094-e5f2-adcf10f4ed7f",
        "colab": {
          "base_uri": "https://localhost:8080/"
        }
      },
      "outputs": [
        {
          "output_type": "stream",
          "name": "stdout",
          "text": [
            "30 is divisible by both 3 and 5: True\n",
            "24 is not divisible by both 3 and 5: False\n"
          ]
        }
      ],
      "source": [
        "# Write a Python program to use a lambda function to check if a number is divisible by both 3 and 5.\n",
        "def check_divisibility(num):\n",
        "    return (lambda x: x % 3 == 0 and x % 5 == 0)(num)\n",
        "number = 30\n",
        "result = check_divisibility(number)\n",
        "if result:\n",
        "  print(f\"{number} is divisible by both 3 and 5: {result}\")\n",
        "else:\n",
        "  print(f\"{number} is not divisible by both 3 and 5: {result}\")\n",
        "number = 24\n",
        "result = check_divisibility(number)\n",
        "if result:\n",
        "  print(f\"{number} is divisible by both 3 and 5: {result}\")\n",
        "else:\n",
        "  print(f\"{number} is not divisible by both 3 and 5: {result}\")"
      ]
    },
    {
      "cell_type": "code",
      "execution_count": 32,
      "id": "0aac8430-5d77-439d-9a99-9598fadf989c",
      "metadata": {
        "id": "0aac8430-5d77-439d-9a99-9598fadf989c",
        "outputId": "8813d06f-5884-4e0b-84c6-44fe7589074e",
        "colab": {
          "base_uri": "https://localhost:8080/"
        }
      },
      "outputs": [
        {
          "output_type": "stream",
          "name": "stdout",
          "text": [
            "Numbers multiplied by 2: [42, 64, 86, 108, 130]\n"
          ]
        }
      ],
      "source": [
        "# Write a Python program to multiply all numbers in a list by 2 using a lambda function inside map().\n",
        "def multiply_by_two(input_list):\n",
        "    return list(map(lambda x: x * 2, input_list))\n",
        "input_list = [21, 32, 43, 54, 65]\n",
        "result = multiply_by_two(input_list)\n",
        "print(f\"Numbers multiplied by 2: {result}\")"
      ]
    },
    {
      "cell_type": "code",
      "execution_count": 33,
      "id": "e4cd5ba8-c6ec-4f0d-8787-bf0a4b7a2e22",
      "metadata": {
        "id": "e4cd5ba8-c6ec-4f0d-8787-bf0a4b7a2e22",
        "outputId": "7fd99aa4-9464-4d95-ea35-2aa306b3ce3a",
        "colab": {
          "base_uri": "https://localhost:8080/"
        }
      },
      "outputs": [
        {
          "output_type": "stream",
          "name": "stdout",
          "text": [
            "List after removing all occurrences of 22: [11, 33, 44, 55, 66]\n"
          ]
        }
      ],
      "source": [
        "# Write a Python program to remove all occurrences of a specific element from a list.\n",
        "def remove_occurrences(input_list, element):\n",
        "    return [item for item in input_list if item != element]\n",
        "\n",
        "input_list = [11, 22, 33, 44, 22, 55, 22, 66]\n",
        "element_to_remove = 22\n",
        "result = remove_occurrences(input_list, element_to_remove)\n",
        "print(f\"List after removing all occurrences of {element_to_remove}: {result}\")"
      ]
    },
    {
      "cell_type": "markdown",
      "id": "caba77c7-93db-4893-8f48-c7365ed5c585",
      "metadata": {
        "id": "caba77c7-93db-4893-8f48-c7365ed5c585"
      },
      "source": [
        "**Note:**\n",
        "- All assignments must follow [PEP 8 – Style Guide for Python Code](https://peps.python.org/pep-0008/) guidelines.\n",
        "- You can add multiple solutions for each question. Create a new code cell next to the question and add it. Shortcut for creating cell : `Alt + Enter`"
      ]
    }
  ],
  "metadata": {
    "kernelspec": {
      "display_name": "Python 3 (ipykernel)",
      "language": "python",
      "name": "python3"
    },
    "language_info": {
      "codemirror_mode": {
        "name": "ipython",
        "version": 3
      },
      "file_extension": ".py",
      "mimetype": "text/x-python",
      "name": "python",
      "nbconvert_exporter": "python",
      "pygments_lexer": "ipython3",
      "version": "3.12.6"
    },
    "colab": {
      "provenance": [],
      "include_colab_link": true
    }
  },
  "nbformat": 4,
  "nbformat_minor": 5
}